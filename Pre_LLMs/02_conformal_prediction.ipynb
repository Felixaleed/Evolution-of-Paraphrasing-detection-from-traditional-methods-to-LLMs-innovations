{
 "cells": [
  {
   "cell_type": "code",
   "execution_count": 1,
   "id": "537668a0-4063-4924-94ae-f5b68614d837",
   "metadata": {},
   "outputs": [
    {
     "name": "stderr",
     "output_type": "stream",
     "text": [
      "ERROR: pip's dependency resolver does not currently take into account all the packages that are installed. This behaviour is the source of the following dependency conflicts.\n",
      "torch 2.5.1 requires sympy==1.13.1; python_version >= \"3.9\", but you have sympy 1.13.3 which is incompatible.\n"
     ]
    },
    {
     "name": "stdout",
     "output_type": "stream",
     "text": [
      "✅ Running on cpu\n"
     ]
    }
   ],
   "source": [
    "!pip install transformers datasets scikit-learn tqdm matplotlib seaborn --quiet\n",
    "import torch\n",
    "device = torch.device('cuda' if torch.cuda.is_available() else 'cpu')\n",
    "print(f\"✅ Running on {device}\")\n"
   ]
  },
  {
   "cell_type": "code",
   "execution_count": 2,
   "id": "0a8cbe6d-2b70-45ac-ae0c-fdc3ae26f418",
   "metadata": {},
   "outputs": [
    {
     "name": "stderr",
     "output_type": "stream",
     "text": [
      "C:\\Users\\AS\\AppData\\Roaming\\Python\\Python312\\site-packages\\tqdm\\auto.py:21: TqdmWarning: IProgress not found. Please update jupyter and ipywidgets. See https://ipywidgets.readthedocs.io/en/stable/user_install.html\n",
      "  from .autonotebook import tqdm as notebook_tqdm\n"
     ]
    }
   ],
   "source": [
    "import numpy as np\n",
    "import pandas as pd\n",
    "import matplotlib.pyplot as plt\n",
    "import seaborn as sns\n",
    "\n",
    "from datasets import load_dataset\n",
    "from transformers import AutoTokenizer, BertForSequenceClassification\n",
    "from torch.utils.data import DataLoader, TensorDataset\n",
    "from tqdm import tqdm\n",
    "\n",
    "from sklearn.metrics import f1_score\n"
   ]
  },
  {
   "cell_type": "code",
   "execution_count": 3,
   "id": "9a429957-01e9-4bce-b359-3d93175d3ddc",
   "metadata": {},
   "outputs": [
    {
     "data": {
      "text/plain": [
       "BertForSequenceClassification(\n",
       "  (bert): BertModel(\n",
       "    (embeddings): BertEmbeddings(\n",
       "      (word_embeddings): Embedding(30522, 768, padding_idx=0)\n",
       "      (position_embeddings): Embedding(512, 768)\n",
       "      (token_type_embeddings): Embedding(2, 768)\n",
       "      (LayerNorm): LayerNorm((768,), eps=1e-12, elementwise_affine=True)\n",
       "      (dropout): Dropout(p=0.1, inplace=False)\n",
       "    )\n",
       "    (encoder): BertEncoder(\n",
       "      (layer): ModuleList(\n",
       "        (0-11): 12 x BertLayer(\n",
       "          (attention): BertAttention(\n",
       "            (self): BertSdpaSelfAttention(\n",
       "              (query): Linear(in_features=768, out_features=768, bias=True)\n",
       "              (key): Linear(in_features=768, out_features=768, bias=True)\n",
       "              (value): Linear(in_features=768, out_features=768, bias=True)\n",
       "              (dropout): Dropout(p=0.1, inplace=False)\n",
       "            )\n",
       "            (output): BertSelfOutput(\n",
       "              (dense): Linear(in_features=768, out_features=768, bias=True)\n",
       "              (LayerNorm): LayerNorm((768,), eps=1e-12, elementwise_affine=True)\n",
       "              (dropout): Dropout(p=0.1, inplace=False)\n",
       "            )\n",
       "          )\n",
       "          (intermediate): BertIntermediate(\n",
       "            (dense): Linear(in_features=768, out_features=3072, bias=True)\n",
       "            (intermediate_act_fn): GELUActivation()\n",
       "          )\n",
       "          (output): BertOutput(\n",
       "            (dense): Linear(in_features=3072, out_features=768, bias=True)\n",
       "            (LayerNorm): LayerNorm((768,), eps=1e-12, elementwise_affine=True)\n",
       "            (dropout): Dropout(p=0.1, inplace=False)\n",
       "          )\n",
       "        )\n",
       "      )\n",
       "    )\n",
       "    (pooler): BertPooler(\n",
       "      (dense): Linear(in_features=768, out_features=768, bias=True)\n",
       "      (activation): Tanh()\n",
       "    )\n",
       "  )\n",
       "  (dropout): Dropout(p=0.1, inplace=False)\n",
       "  (classifier): Linear(in_features=768, out_features=2, bias=True)\n",
       ")"
      ]
     },
     "execution_count": 3,
     "metadata": {},
     "output_type": "execute_result"
    }
   ],
   "source": [
    "# 3. Load Fine-tuned BERT Model\n",
    "model_path = 'outputs/outputs/fine_tuned_bert_mrpc'\n",
    "tokenizer = AutoTokenizer.from_pretrained(model_path)\n",
    "model = BertForSequenceClassification.from_pretrained(model_path)\n",
    "model.to(device)\n",
    "model.eval()\n"
   ]
  },
  {
   "cell_type": "code",
   "execution_count": 4,
   "id": "24c6d0dc-7db8-4520-a61e-f6e73d0af5f6",
   "metadata": {},
   "outputs": [
    {
     "name": "stderr",
     "output_type": "stream",
     "text": [
      "Map: 100%|████████████████████████| 3668/3668 [00:00<00:00, 4304.43 examples/s]\n",
      "Map: 100%|██████████████████████████| 408/408 [00:00<00:00, 4398.83 examples/s]\n",
      "Map: 100%|████████████████████████| 1725/1725 [00:00<00:00, 5561.49 examples/s]\n"
     ]
    }
   ],
   "source": [
    "# 4. Load and Tokenize MRPC Dataset\n",
    "dataset = load_dataset('glue', 'mrpc')\n",
    "\n",
    "def tokenize_function(example):\n",
    "    return tokenizer(example['sentence1'], example['sentence2'], truncation=True, padding='max_length', max_length=128)\n",
    "\n",
    "encoded_dataset = dataset.map(tokenize_function, batched=True)\n",
    "encoded_dataset.set_format(type='torch', columns=['input_ids', 'attention_mask', 'label'])\n",
    "\n",
    "# Split into proper subsets\n",
    "train_dataset = encoded_dataset['train']\n",
    "val_dataset = encoded_dataset['validation']\n",
    "test_dataset = encoded_dataset['test']\n"
   ]
  },
  {
   "cell_type": "code",
   "execution_count": 5,
   "id": "0c9cfd37-7743-484b-ad9b-dc6d83162ac5",
   "metadata": {},
   "outputs": [],
   "source": [
    "# 5. Split Training Data for Calibration\n",
    "# Use 10% of training set for calibration\n",
    "calibration_size = int(0.1 * len(train_dataset))\n",
    "calibration_dataset = torch.utils.data.Subset(train_dataset, list(range(calibration_size)))\n",
    "proper_train_dataset = torch.utils.data.Subset(train_dataset, list(range(calibration_size, len(train_dataset))))\n"
   ]
  },
  {
   "cell_type": "code",
   "execution_count": 6,
   "id": "75a0a5a3-3e43-4486-a5ab-15b82e5799b8",
   "metadata": {},
   "outputs": [],
   "source": [
    "# 6. Define Helper Functions\n",
    "@torch.no_grad()\n",
    "def predict_logits(dataloader):\n",
    "    all_logits = []\n",
    "    all_labels = []\n",
    "    for batch in tqdm(dataloader):\n",
    "        input_ids = batch['input_ids'].to(device)\n",
    "        attention_mask = batch['attention_mask'].to(device)\n",
    "        labels = batch['label'].to(device)\n",
    "\n",
    "        outputs = model(input_ids=input_ids, attention_mask=attention_mask)\n",
    "        logits = outputs.logits\n",
    "        all_logits.append(logits.cpu())\n",
    "        all_labels.append(labels.cpu())\n",
    "    return torch.cat(all_logits), torch.cat(all_labels)\n",
    "\n",
    "def compute_nonconformity(logits, true_labels):\n",
    "    true_logits = logits.gather(1, true_labels.unsqueeze(1)).squeeze(1)\n",
    "    nonconformity_scores = -true_logits\n",
    "    return nonconformity_scores\n"
   ]
  },
  {
   "cell_type": "code",
   "execution_count": 7,
   "id": "b12abadb-3a9e-494c-aa06-54135959aceb",
   "metadata": {},
   "outputs": [
    {
     "name": "stderr",
     "output_type": "stream",
     "text": [
      "100%|██████████████████████████████████████████| 12/12 [00:59<00:00,  4.92s/it]\n"
     ]
    }
   ],
   "source": [
    "# 7. Compute Calibration Scores\n",
    "calibration_loader = DataLoader(calibration_dataset, batch_size=32)\n",
    "calib_logits, calib_labels = predict_logits(calibration_loader)\n",
    "calib_scores = compute_nonconformity(calib_logits, calib_labels)\n"
   ]
  },
  {
   "cell_type": "code",
   "execution_count": 8,
   "id": "07adfe7f-332c-48e4-b745-28f1703263ae",
   "metadata": {},
   "outputs": [
    {
     "name": "stderr",
     "output_type": "stream",
     "text": [
      "100%|██████████████████████████████████████████| 54/54 [04:22<00:00,  4.87s/it]\n"
     ]
    }
   ],
   "source": [
    "# 8. Predict and Apply ICP\n",
    "test_loader = DataLoader(test_dataset, batch_size=32)\n",
    "test_logits, test_labels = predict_logits(test_loader)\n",
    "\n",
    "# Compute nonconformity for all candidate labels\n",
    "def icp_predict(test_logits, calib_scores, epsilon=0.1):\n",
    "    prediction_sets = []\n",
    "    for logit_vec in test_logits:\n",
    "        p_values = []\n",
    "        for class_idx in range(2):\n",
    "            nonconf_score = -logit_vec[class_idx]\n",
    "            p_val = (torch.sum(calib_scores <= nonconf_score).item() + 1) / (len(calib_scores) + 1)\n",
    "            p_values.append(p_val)\n",
    "        prediction = [i for i, p in enumerate(p_values) if p > epsilon]\n",
    "        prediction_sets.append(prediction)\n",
    "    return prediction_sets\n",
    "\n",
    "prediction_sets = icp_predict(test_logits, calib_scores, epsilon=0.1)\n"
   ]
  },
  {
   "cell_type": "code",
   "execution_count": 9,
   "id": "f8eea607-daec-4536-95d1-908d27c96e48",
   "metadata": {},
   "outputs": [
    {
     "name": "stdout",
     "output_type": "stream",
     "text": [
      "📈 Forced Prediction Macro F1: 0.7366\n",
      "📦 Average Prediction Set Size: 1.93\n"
     ]
    }
   ],
   "source": [
    "# 9. Evaluate Efficiency and Validity\n",
    "# Calculate forced predictions (pick highest logit)\n",
    "forced_preds = test_logits.argmax(dim=1)\n",
    "\n",
    "# Calculate Macro F1\n",
    "macro_f1 = f1_score(test_labels.numpy(), forced_preds.numpy(), average='macro')\n",
    "print(f\"📈 Forced Prediction Macro F1: {macro_f1:.4f}\")\n",
    "\n",
    "# Calculate average prediction set size (N-criterion)\n",
    "avg_set_size = np.mean([len(p) for p in prediction_sets])\n",
    "print(f\"📦 Average Prediction Set Size: {avg_set_size:.2f}\")\n"
   ]
  },
  {
   "cell_type": "code",
   "execution_count": 10,
   "id": "6bb08574-5552-429f-8342-3f1d81244772",
   "metadata": {},
   "outputs": [
    {
     "data": {
      "image/png": "[encoded data removed]",
      "text/plain": [
       "<Figure size 640x480 with 1 Axes>"
      ]
     },
     "metadata": {},
     "output_type": "display_data"
    }
   ],
   "source": [
    "# 10. Visualize Distribution of Prediction Set Sizes\n",
    "sns.histplot([len(p) for p in prediction_sets], bins=4)\n",
    "plt.title(\"Distribution of Prediction Set Sizes (ICP)\")\n",
    "plt.xlabel(\"Prediction Set Size\")\n",
    "plt.ylabel(\"Frequency\")\n",
    "plt.show()\n"
   ]
  },
  {
   "cell_type": "code",
   "execution_count": null,
   "id": "e10e9213-a526-48bd-af16-fda98338538b",
   "metadata": {},
   "outputs": [],
   "source": []
  }
 ],
 "metadata": {
  "kernelspec": {
   "display_name": "Python 3 (ipykernel)",
   "language": "python",
   "name": "python3"
  },
  "language_info": {
   "codemirror_mode": {
    "name": "ipython",
    "version": 3
   },
   "file_extension": ".py",
   "mimetype": "text/x-python",
   "name": "python",
   "nbconvert_exporter": "python",
   "pygments_lexer": "ipython3",
   "version": "3.12.2"
  }
 },
 "nbformat": 4,
 "nbformat_minor": 5
}
