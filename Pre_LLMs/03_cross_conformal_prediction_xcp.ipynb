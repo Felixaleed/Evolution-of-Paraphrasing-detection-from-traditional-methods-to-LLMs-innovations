{
 "cells": [
  {
   "cell_type": "code",
   "execution_count": 1,
   "id": "d10d586f-c464-487c-a82c-91d4faf141a9",
   "metadata": {},
   "outputs": [
    {
     "name": "stdout",
     "output_type": "stream",
     "text": [
      "✅ Running on cpu\n"
     ]
    }
   ],
   "source": [
    "!pip install transformers datasets scikit-learn tqdm matplotlib seaborn --quiet\n",
    "import torch\n",
    "device = torch.device('cuda' if torch.cuda.is_available() else 'cpu')\n",
    "print(f\"✅ Running on {device}\")\n"
   ]
  },
  {
   "cell_type": "code",
   "execution_count": 2,
   "id": "08987c09-a11d-40f1-83b8-b5d6f6125f30",
   "metadata": {},
   "outputs": [
    {
     "name": "stderr",
     "output_type": "stream",
     "text": [
      "C:\\Users\\AS\\AppData\\Roaming\\Python\\Python312\\site-packages\\tqdm\\auto.py:21: TqdmWarning: IProgress not found. Please update jupyter and ipywidgets. See https://ipywidgets.readthedocs.io/en/stable/user_install.html\n",
      "  from .autonotebook import tqdm as notebook_tqdm\n"
     ]
    }
   ],
   "source": [
    "import numpy as np\n",
    "import pandas as pd\n",
    "import matplotlib.pyplot as plt\n",
    "import seaborn as sns\n",
    "\n",
    "from datasets import load_dataset\n",
    "from transformers import AutoTokenizer, BertForSequenceClassification\n",
    "from torch.utils.data import DataLoader, Subset\n",
    "from sklearn.model_selection import KFold\n",
    "from sklearn.metrics import f1_score\n",
    "from tqdm import tqdm\n"
   ]
  },
  {
   "cell_type": "code",
   "execution_count": 3,
   "id": "089a4d07-962d-41ad-bae4-04b43d0f8300",
   "metadata": {},
   "outputs": [
    {
     "data": {
      "text/plain": [
       "BertForSequenceClassification(\n",
       "  (bert): BertModel(\n",
       "    (embeddings): BertEmbeddings(\n",
       "      (word_embeddings): Embedding(30522, 768, padding_idx=0)\n",
       "      (position_embeddings): Embedding(512, 768)\n",
       "      (token_type_embeddings): Embedding(2, 768)\n",
       "      (LayerNorm): LayerNorm((768,), eps=1e-12, elementwise_affine=True)\n",
       "      (dropout): Dropout(p=0.1, inplace=False)\n",
       "    )\n",
       "    (encoder): BertEncoder(\n",
       "      (layer): ModuleList(\n",
       "        (0-11): 12 x BertLayer(\n",
       "          (attention): BertAttention(\n",
       "            (self): BertSdpaSelfAttention(\n",
       "              (query): Linear(in_features=768, out_features=768, bias=True)\n",
       "              (key): Linear(in_features=768, out_features=768, bias=True)\n",
       "              (value): Linear(in_features=768, out_features=768, bias=True)\n",
       "              (dropout): Dropout(p=0.1, inplace=False)\n",
       "            )\n",
       "            (output): BertSelfOutput(\n",
       "              (dense): Linear(in_features=768, out_features=768, bias=True)\n",
       "              (LayerNorm): LayerNorm((768,), eps=1e-12, elementwise_affine=True)\n",
       "              (dropout): Dropout(p=0.1, inplace=False)\n",
       "            )\n",
       "          )\n",
       "          (intermediate): BertIntermediate(\n",
       "            (dense): Linear(in_features=768, out_features=3072, bias=True)\n",
       "            (intermediate_act_fn): GELUActivation()\n",
       "          )\n",
       "          (output): BertOutput(\n",
       "            (dense): Linear(in_features=3072, out_features=768, bias=True)\n",
       "            (LayerNorm): LayerNorm((768,), eps=1e-12, elementwise_affine=True)\n",
       "            (dropout): Dropout(p=0.1, inplace=False)\n",
       "          )\n",
       "        )\n",
       "      )\n",
       "    )\n",
       "    (pooler): BertPooler(\n",
       "      (dense): Linear(in_features=768, out_features=768, bias=True)\n",
       "      (activation): Tanh()\n",
       "    )\n",
       "  )\n",
       "  (dropout): Dropout(p=0.1, inplace=False)\n",
       "  (classifier): Linear(in_features=768, out_features=2, bias=True)\n",
       ")"
      ]
     },
     "execution_count": 3,
     "metadata": {},
     "output_type": "execute_result"
    }
   ],
   "source": [
    "# 3. Load Fine-tuned BERT Model\n",
    "model_path = 'outputs/outputs/fine_tuned_bert_mrpc'  # Adjust if needed\n",
    "tokenizer = AutoTokenizer.from_pretrained(model_path)\n",
    "model = BertForSequenceClassification.from_pretrained(model_path)\n",
    "model.to(device)\n",
    "model.eval()\n"
   ]
  },
  {
   "cell_type": "code",
   "execution_count": 4,
   "id": "177ec22d-18e6-497d-81af-6dc929c7fbad",
   "metadata": {},
   "outputs": [],
   "source": [
    "# 4. Load and Tokenize MRPC Dataset\n",
    "dataset = load_dataset('glue', 'mrpc')\n",
    "\n",
    "def tokenize_function(example):\n",
    "    return tokenizer(example['sentence1'], example['sentence2'], truncation=True, padding='max_length', max_length=128)\n",
    "\n",
    "encoded_dataset = dataset.map(tokenize_function, batched=True)\n",
    "encoded_dataset.set_format(type='torch', columns=['input_ids', 'attention_mask', 'label'])\n",
    "\n",
    "val_dataset = encoded_dataset['validation']\n",
    "test_dataset = encoded_dataset['test']\n"
   ]
  },
  {
   "cell_type": "code",
   "execution_count": 5,
   "id": "de3b6d05-8886-4dca-a73b-d0c6cb03b539",
   "metadata": {},
   "outputs": [],
   "source": [
    "# 5. Define Helper Functions\n",
    "@torch.no_grad()\n",
    "def predict_logits(model, dataloader):\n",
    "    model.eval()\n",
    "    all_logits = []\n",
    "    all_labels = []\n",
    "    for batch in tqdm(dataloader):\n",
    "        input_ids = batch['input_ids'].to(device)\n",
    "        attention_mask = batch['attention_mask'].to(device)\n",
    "        labels = batch['label'].to(device)\n",
    "\n",
    "        outputs = model(input_ids=input_ids, attention_mask=attention_mask)\n",
    "        logits = outputs.logits\n",
    "        all_logits.append(logits.cpu())\n",
    "        all_labels.append(labels.cpu())\n",
    "    return torch.cat(all_logits), torch.cat(all_labels)\n",
    "\n",
    "def compute_nonconformity(logits, true_labels):\n",
    "    true_logits = logits.gather(1, true_labels.unsqueeze(1)).squeeze(1)\n",
    "    nonconformity_scores = -true_logits\n",
    "    return nonconformity_scores\n"
   ]
  },
  {
   "cell_type": "code",
   "execution_count": 6,
   "id": "99c92ba6-e569-4311-a8e8-a2d4e770452f",
   "metadata": {},
   "outputs": [
    {
     "name": "stderr",
     "output_type": "stream",
     "text": [
      "100%|████████████████████████████████████████████| 5/5 [00:21<00:00,  4.28s/it]\n",
      "100%|████████████████████████████████████████████| 5/5 [00:21<00:00,  4.25s/it]\n",
      "100%|████████████████████████████████████████████| 5/5 [00:21<00:00,  4.26s/it]\n"
     ]
    }
   ],
   "source": [
    "# 6. Apply 3-Fold Cross Conformal Prediction (XCP)\n",
    "kfold = KFold(n_splits=3, shuffle=True, random_state=42)\n",
    "\n",
    "all_calib_scores = []\n",
    "\n",
    "# Split validation set\n",
    "val_indices = np.arange(len(val_dataset))\n",
    "for train_idx, calib_idx in kfold.split(val_indices):\n",
    "    calib_subset = Subset(val_dataset, calib_idx)\n",
    "    calib_loader = DataLoader(calib_subset, batch_size=32)\n",
    "\n",
    "    calib_logits, calib_labels = predict_logits(model, calib_loader)\n",
    "    calib_scores = compute_nonconformity(calib_logits, calib_labels)\n",
    "\n",
    "    all_calib_scores.append(calib_scores)\n",
    "\n",
    "# Stack calibration scores\n",
    "all_calib_scores = torch.cat(all_calib_scores)\n"
   ]
  },
  {
   "cell_type": "code",
   "execution_count": 7,
   "id": "0d29ec38-37dc-4476-b897-e89f39c26686",
   "metadata": {},
   "outputs": [
    {
     "name": "stderr",
     "output_type": "stream",
     "text": [
      "100%|██████████████████████████████████████████| 54/54 [04:23<00:00,  4.88s/it]\n"
     ]
    }
   ],
   "source": [
    "# 7. Predict and Apply XCP on Test Set\n",
    "test_loader = DataLoader(test_dataset, batch_size=32)\n",
    "test_logits, test_labels = predict_logits(model, test_loader)\n",
    "\n",
    "def xcp_predict(test_logits, calib_scores, epsilon=0.1):\n",
    "    prediction_sets = []\n",
    "    for logit_vec in test_logits:\n",
    "        p_values = []\n",
    "        for class_idx in range(2):\n",
    "            nonconf_score = -logit_vec[class_idx]\n",
    "            p_val = (torch.sum(calib_scores <= nonconf_score).item() + 1) / (len(calib_scores) + 1)\n",
    "            p_values.append(p_val)\n",
    "        prediction = [i for i, p in enumerate(p_values) if p > epsilon]\n",
    "        prediction_sets.append(prediction)\n",
    "    return prediction_sets\n",
    "\n",
    "prediction_sets = xcp_predict(test_logits, all_calib_scores, epsilon=0.1)\n"
   ]
  },
  {
   "cell_type": "code",
   "execution_count": 8,
   "id": "d298471f-bb60-427f-a8f1-90e96ab8946a",
   "metadata": {},
   "outputs": [
    {
     "name": "stdout",
     "output_type": "stream",
     "text": [
      "📈 Forced Prediction Macro F1: 0.7366\n",
      "📦 Average Prediction Set Size: 1.91\n"
     ]
    }
   ],
   "source": [
    "# 8. Evaluate Cross Conformal Prediction Results\n",
    "# Forced prediction\n",
    "forced_preds = test_logits.argmax(dim=1)\n",
    "\n",
    "# Metrics\n",
    "macro_f1 = f1_score(test_labels.numpy(), forced_preds.numpy(), average='macro')\n",
    "print(f\"📈 Forced Prediction Macro F1: {macro_f1:.4f}\")\n",
    "\n",
    "# Average prediction set size\n",
    "avg_set_size = np.mean([len(p) for p in prediction_sets])\n",
    "print(f\"📦 Average Prediction Set Size: {avg_set_size:.2f}\")\n"
   ]
  },
  {
   "cell_type": "code",
   "execution_count": 9,
   "id": "3ee64eaf-1418-4556-963c-cd723849d58c",
   "metadata": {},
   "outputs": [
    {
     "data": {
      "image/png": "[encoded data removed]",
      "text/plain": [
       "<Figure size 640x480 with 1 Axes>"
      ]
     },
     "metadata": {},
     "output_type": "display_data"
    }
   ],
   "source": [
    "# 9. Visualize Prediction Set Sizes Distribution\n",
    "sns.histplot([len(p) for p in prediction_sets], bins=4)\n",
    "plt.title(\"Distribution of Prediction Set Sizes (XCP - 3 folds)\")\n",
    "plt.xlabel(\"Prediction Set Size\")\n",
    "plt.ylabel(\"Frequency\")\n",
    "plt.show()\n"
   ]
  },
  {
   "cell_type": "code",
   "execution_count": 10,
   "id": "b73db81b-1340-4fd0-b04e-7360fa9a1b1b",
   "metadata": {},
   "outputs": [],
   "source": [
    "import torch\n",
    "\n",
    "# Save calibration scores to disk\n",
    "torch.save(all_calib_scores, 'all_calib_scores.pt')\n"
   ]
  },
  {
   "cell_type": "code",
   "execution_count": null,
   "id": "da1d8e5f-9b82-430f-87a0-62d519f8110b",
   "metadata": {},
   "outputs": [],
   "source": []
  }
 ],
 "metadata": {
  "kernelspec": {
   "display_name": "Python 3 (ipykernel)",
   "language": "python",
   "name": "python3"
  },
  "language_info": {
   "codemirror_mode": {
    "name": "ipython",
    "version": 3
   },
   "file_extension": ".py",
   "mimetype": "text/x-python",
   "name": "python",
   "nbconvert_exporter": "python",
   "pygments_lexer": "ipython3",
   "version": "3.12.2"
  }
 },
 "nbformat": 4,
 "nbformat_minor": 5
}
