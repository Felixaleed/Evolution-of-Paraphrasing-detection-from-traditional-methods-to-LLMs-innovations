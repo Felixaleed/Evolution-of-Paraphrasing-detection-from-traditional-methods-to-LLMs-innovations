{
 "cells": [
  {
   "cell_type": "code",
   "execution_count": 1,
   "id": "ef46b0c0-5456-4ede-b73e-fc5d7aacb6d6",
   "metadata": {},
   "outputs": [
    {
     "name": "stdout",
     "output_type": "stream",
     "text": [
      "✅ Running on cpu\n"
     ]
    }
   ],
   "source": [
    "!pip install transformers datasets scikit-learn tqdm matplotlib seaborn --quiet\n",
    "import torch\n",
    "\n",
    "device = torch.device('cuda' if torch.cuda.is_available() else 'cpu')\n",
    "print(f\"✅ Running on {device}\")\n"
   ]
  },
  {
   "cell_type": "code",
   "execution_count": 2,
   "id": "8a55eb6a-b7ad-4aa9-8115-9225623cb55d",
   "metadata": {},
   "outputs": [
    {
     "name": "stderr",
     "output_type": "stream",
     "text": [
      "C:\\Users\\AS\\AppData\\Roaming\\Python\\Python312\\site-packages\\tqdm\\auto.py:21: TqdmWarning: IProgress not found. Please update jupyter and ipywidgets. See https://ipywidgets.readthedocs.io/en/stable/user_install.html\n",
      "  from .autonotebook import tqdm as notebook_tqdm\n"
     ]
    }
   ],
   "source": [
    "import numpy as np\n",
    "import pandas as pd\n",
    "import matplotlib.pyplot as plt\n",
    "import seaborn as sns\n",
    "\n",
    "from datasets import load_dataset\n",
    "from transformers import AutoTokenizer, RobertaForSequenceClassification\n",
    "from torch.utils.data import DataLoader, Subset\n",
    "from sklearn.metrics import f1_score\n",
    "from tqdm import tqdm\n"
   ]
  },
  {
   "cell_type": "code",
   "execution_count": 3,
   "id": "f1bdbfdb-ec10-4d7d-bf06-40631a372868",
   "metadata": {},
   "outputs": [
    {
     "data": {
      "text/plain": [
       "RobertaForSequenceClassification(\n",
       "  (roberta): RobertaModel(\n",
       "    (embeddings): RobertaEmbeddings(\n",
       "      (word_embeddings): Embedding(50265, 768, padding_idx=1)\n",
       "      (position_embeddings): Embedding(514, 768, padding_idx=1)\n",
       "      (token_type_embeddings): Embedding(1, 768)\n",
       "      (LayerNorm): LayerNorm((768,), eps=1e-05, elementwise_affine=True)\n",
       "      (dropout): Dropout(p=0.1, inplace=False)\n",
       "    )\n",
       "    (encoder): RobertaEncoder(\n",
       "      (layer): ModuleList(\n",
       "        (0-11): 12 x RobertaLayer(\n",
       "          (attention): RobertaAttention(\n",
       "            (self): RobertaSdpaSelfAttention(\n",
       "              (query): Linear(in_features=768, out_features=768, bias=True)\n",
       "              (key): Linear(in_features=768, out_features=768, bias=True)\n",
       "              (value): Linear(in_features=768, out_features=768, bias=True)\n",
       "              (dropout): Dropout(p=0.1, inplace=False)\n",
       "            )\n",
       "            (output): RobertaSelfOutput(\n",
       "              (dense): Linear(in_features=768, out_features=768, bias=True)\n",
       "              (LayerNorm): LayerNorm((768,), eps=1e-05, elementwise_affine=True)\n",
       "              (dropout): Dropout(p=0.1, inplace=False)\n",
       "            )\n",
       "          )\n",
       "          (intermediate): RobertaIntermediate(\n",
       "            (dense): Linear(in_features=768, out_features=3072, bias=True)\n",
       "            (intermediate_act_fn): GELUActivation()\n",
       "          )\n",
       "          (output): RobertaOutput(\n",
       "            (dense): Linear(in_features=3072, out_features=768, bias=True)\n",
       "            (LayerNorm): LayerNorm((768,), eps=1e-05, elementwise_affine=True)\n",
       "            (dropout): Dropout(p=0.1, inplace=False)\n",
       "          )\n",
       "        )\n",
       "      )\n",
       "    )\n",
       "  )\n",
       "  (classifier): RobertaClassificationHead(\n",
       "    (dense): Linear(in_features=768, out_features=768, bias=True)\n",
       "    (dropout): Dropout(p=0.1, inplace=False)\n",
       "    (out_proj): Linear(in_features=768, out_features=2, bias=True)\n",
       "  )\n",
       ")"
      ]
     },
     "execution_count": 3,
     "metadata": {},
     "output_type": "execute_result"
    }
   ],
   "source": [
    "model_path = 'outputs_roberta/fine_tuned_roberta_mrpc'  # Adjust if needed\n",
    "tokenizer = AutoTokenizer.from_pretrained(model_path)\n",
    "model = RobertaForSequenceClassification.from_pretrained(model_path)\n",
    "model.to(device)\n",
    "model.eval()\n"
   ]
  },
  {
   "cell_type": "code",
   "execution_count": 4,
   "id": "a8323d2a-9494-41e1-bfb9-b90eeee5120e",
   "metadata": {},
   "outputs": [
    {
     "name": "stderr",
     "output_type": "stream",
     "text": [
      "Map: 100%|████████████████████████| 3668/3668 [00:00<00:00, 5893.95 examples/s]\n",
      "Map: 100%|██████████████████████████| 408/408 [00:00<00:00, 4545.46 examples/s]\n",
      "Map: 100%|████████████████████████| 1725/1725 [00:00<00:00, 4069.65 examples/s]\n"
     ]
    }
   ],
   "source": [
    "# 4. Load and Tokenize MRPC Dataset\n",
    "dataset = load_dataset('glue', 'mrpc')\n",
    "\n",
    "def tokenize_function(example):\n",
    "    return tokenizer(example['sentence1'], example['sentence2'], truncation=True, padding='max_length', max_length=128)\n",
    "\n",
    "encoded_dataset = dataset.map(tokenize_function, batched=True)\n",
    "encoded_dataset.set_format(type='torch', columns=['input_ids', 'attention_mask', 'label'])\n",
    "\n",
    "val_dataset = encoded_dataset['validation']\n",
    "test_dataset = encoded_dataset['test']\n"
   ]
  },
  {
   "cell_type": "code",
   "execution_count": 5,
   "id": "fe5bf7c3-0b7c-4431-a24d-27a1be838ed1",
   "metadata": {},
   "outputs": [],
   "source": [
    "# 5. Define Helper Functions\n",
    "@torch.no_grad()\n",
    "def predict_logits(dataloader):\n",
    "    model.eval()\n",
    "    all_logits = []\n",
    "    all_labels = []\n",
    "    for batch in tqdm(dataloader):\n",
    "        input_ids = batch['input_ids'].to(device)\n",
    "        attention_mask = batch['attention_mask'].to(device)\n",
    "        labels = batch['label'].to(device)\n",
    "\n",
    "        outputs = model(input_ids=input_ids, attention_mask=attention_mask)\n",
    "        logits = outputs.logits\n",
    "        all_logits.append(logits.cpu())\n",
    "        all_labels.append(labels.cpu())\n",
    "    return torch.cat(all_logits), torch.cat(all_labels)\n",
    "\n",
    "def compute_nonconformity(logits, true_labels):\n",
    "    true_logits = logits.gather(1, true_labels.unsqueeze(1)).squeeze(1)\n",
    "    nonconformity_scores = -true_logits\n",
    "    return nonconformity_scores\n"
   ]
  },
  {
   "cell_type": "code",
   "execution_count": 6,
   "id": "4736f3b4-d6f4-45ef-887f-c525d7f99b62",
   "metadata": {},
   "outputs": [],
   "source": [
    "# 6. Split Calibration Set from Validation Set\n",
    "calibration_size = int(0.1 * len(val_dataset))\n",
    "calibration_dataset = Subset(val_dataset, list(range(calibration_size)))\n",
    "proper_train_dataset = Subset(val_dataset, list(range(calibration_size, len(val_dataset))))\n"
   ]
  },
  {
   "cell_type": "code",
   "execution_count": 7,
   "id": "e79be189-b4cc-46dc-922f-e6b27ab8d8ca",
   "metadata": {},
   "outputs": [
    {
     "name": "stderr",
     "output_type": "stream",
     "text": [
      "100%|████████████████████████████████████████████| 2/2 [00:06<00:00,  3.46s/it]\n"
     ]
    }
   ],
   "source": [
    "# 7. Compute Nonconformity Scores on Calibration Set\n",
    "calibration_loader = DataLoader(calibration_dataset, batch_size=32)\n",
    "calib_logits, calib_labels = predict_logits(calibration_loader)\n",
    "calib_scores = compute_nonconformity(calib_logits, calib_labels)\n"
   ]
  },
  {
   "cell_type": "code",
   "execution_count": 8,
   "id": "58eb622b-0871-4c1b-9370-653a1bf7ac41",
   "metadata": {},
   "outputs": [
    {
     "name": "stderr",
     "output_type": "stream",
     "text": [
      "100%|██████████████████████████████████████████| 54/54 [04:35<00:00,  5.10s/it]\n"
     ]
    }
   ],
   "source": [
    "# 8. Predict Test Set and Apply ICP\n",
    "test_loader = DataLoader(test_dataset, batch_size=32)\n",
    "test_logits, test_labels = predict_logits(test_loader)\n",
    "\n",
    "def icp_predict(test_logits, calib_scores, epsilon=0.1):\n",
    "    prediction_sets = []\n",
    "    for logit_vec in test_logits:\n",
    "        p_values = []\n",
    "        for class_idx in range(2):\n",
    "            nonconf_score = -logit_vec[class_idx]\n",
    "            p_val = (torch.sum(calib_scores <= nonconf_score).item() + 1) / (len(calib_scores) + 1)\n",
    "            p_values.append(p_val)\n",
    "        prediction = [i for i, p in enumerate(p_values) if p > epsilon]\n",
    "        prediction_sets.append(prediction)\n",
    "    return prediction_sets\n",
    "\n",
    "prediction_sets = icp_predict(test_logits, calib_scores, epsilon=0.1)\n"
   ]
  },
  {
   "cell_type": "code",
   "execution_count": 9,
   "id": "cb8f4643-e414-4931-8193-30ce9f2ad8cc",
   "metadata": {},
   "outputs": [
    {
     "name": "stdout",
     "output_type": "stream",
     "text": [
      "📈 Forced Prediction Macro F1: 0.8476\n",
      "📦 Average Prediction Set Size: 1.96\n"
     ]
    }
   ],
   "source": [
    "# 9. Evaluate ICP Results\n",
    "# Forced prediction\n",
    "forced_preds = test_logits.argmax(dim=1)\n",
    "\n",
    "# Metrics\n",
    "macro_f1 = f1_score(test_labels.numpy(), forced_preds.numpy(), average='macro')\n",
    "print(f\"📈 Forced Prediction Macro F1: {macro_f1:.4f}\")\n",
    "\n",
    "# Average prediction set size\n",
    "avg_set_size = np.mean([len(p) for p in prediction_sets])\n",
    "print(f\"📦 Average Prediction Set Size: {avg_set_size:.2f}\")\n"
   ]
  },
  {
   "cell_type": "code",
   "execution_count": 10,
   "id": "c50b0268-90ba-48d0-b02a-61f5f11aa497",
   "metadata": {},
   "outputs": [
    {
     "data": {
      "image/png": "[encoded data removed]",
      "text/plain": [
       "<Figure size 640x480 with 1 Axes>"
      ]
     },
     "metadata": {},
     "output_type": "display_data"
    }
   ],
   "source": [
    "# 10. Plot Distribution of Prediction Set Sizes\n",
    "sns.histplot([len(p) for p in prediction_sets], bins=4)\n",
    "plt.title(\"Distribution of Prediction Set Sizes (ICP - RoBERTa)\")\n",
    "plt.xlabel(\"Prediction Set Size\")\n",
    "plt.ylabel(\"Frequency\")\n",
    "plt.show()\n"
   ]
  }
 ],
 "metadata": {
  "kernelspec": {
   "display_name": "Python 3 (ipykernel)",
   "language": "python",
   "name": "python3"
  },
  "language_info": {
   "codemirror_mode": {
    "name": "ipython",
    "version": 3
   },
   "file_extension": ".py",
   "mimetype": "text/x-python",
   "name": "python",
   "nbconvert_exporter": "python",
   "pygments_lexer": "ipython3",
   "version": "3.12.2"
  }
 },
 "nbformat": 4,
 "nbformat_minor": 5
}
